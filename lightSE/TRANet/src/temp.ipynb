{
 "cells": [
  {
   "cell_type": "code",
   "execution_count": null,
   "id": "03fa8b42-df9d-4af0-a1ae-2ff574a84f4d",
   "metadata": {},
   "outputs": [],
   "source": [
    "import librosa as rs\n",
    "import numpy as np\n",
    "from scipy import signal\n"
   ]
  },
  {
   "cell_type": "code",
   "execution_count": null,
   "metadata": {},
   "outputs": [],
   "source": [
    "\n",
    "path_noise = \"/home/thk/SE/noise/rec_4ch_train_1.wav\"\n",
    "noise = rs.load(path_noise,sr=16000,mono=False)[0]\n",
    "path_clean = \"/home/DB/DNS-Challenge-16kHz/datasets_fullband/clean_fullband/read_speech/book_07500_chp_0001_reader_09713_48_seg_0.wav\"\n",
    "clean = rs.load(path_clean,sr=16000)[0]\n",
    "path_rir = \"/home/thk/SE/rir/RIR_1m_30deg_1.wav\"\n",
    "rir = rs.load(path_rir,sr=16000,mono=False)[0]"
   ]
  },
  {
   "cell_type": "code",
   "execution_count": null,
   "metadata": {},
   "outputs": [],
   "source": [
    "len_data = 49152\n",
    "def match_length(wav,idx_start=None):\n",
    "    if max(wav.shape) > len_data : \n",
    "        left = max(wav.shape) - len_data\n",
    "        if idx_start is None :\n",
    "            idx_start = np.random.randint(left)\n",
    "        if len(wav.shape) > 1:\n",
    "            wav = wav[:,idx_start:idx_start+len_data]\n",
    "        else:\n",
    "            wav = wav[idx_start:idx_start+len_data]\n",
    "    elif max(wav.shape) < len_data : \n",
    "        shortage = len_data - max(wav.shape) \n",
    "        if len(wav.shape) > 1:\n",
    "            wav = np.pad(wav,((0,0),(0,shortage)))\n",
    "        else :\n",
    "            wav = np.pad(wav,(0,shortage))\n",
    "    return wav, idx_start"
   ]
  },
  {
   "cell_type": "code",
   "execution_count": null,
   "metadata": {},
   "outputs": [],
   "source": [
    "clean,_ = match_length(clean)\n",
    "noise,_ = match_length(noise)"
   ]
  },
  {
   "cell_type": "code",
   "execution_count": null,
   "metadata": {},
   "outputs": [],
   "source": [
    "'''\n",
    "clean : single channel, rir & noise = 3ch => noisy = 3ch\n",
    "make code <clean = signal.fftconvolve(clean, rir)[:len(clean)]>\n",
    "to work with 3ch\n",
    "so, make clean to 3ch using rir data with fftconvolve\n",
    "'''\n",
    "# dummy clean shape like noise\n",
    "clean_ = np.repeat(signal.fftconvolve(clean, rir[0,:])[:,np.newaxis],3,axis=1).T\n",
    "for i in range(3):\n",
    "    clean_[i,:] = signal.fftconvolve(clean, rir[i,:])\n"
   ]
  },
  {
   "cell_type": "code",
   "execution_count": null,
   "metadata": {},
   "outputs": [],
   "source": [
    "# save clean_ as rir_mix_clean.wav with soundfile\n",
    "import soundfile as sf\n",
    "sf.write(\"clean.wav\",clean.T,16000)\n",
    "sf.write(\"rir_mix_clean.wav\",clean_.T,16000)\n",
    "print(clean_.shape,clean.shape,rir.shape,clean_.shape[1]-clean.shape[0])"
   ]
  },
  {
   "cell_type": "code",
   "execution_count": null,
   "metadata": {},
   "outputs": [],
   "source": [
    "clean.shape"
   ]
  },
  {
   "cell_type": "code",
   "execution_count": null,
   "metadata": {},
   "outputs": [],
   "source": [
    "def norm_amplitude(y, scalar=None, eps=1e-6):\n",
    "        if not scalar:\n",
    "            scalar = np.max(np.abs(y)) + eps\n",
    "\n",
    "        return y / scalar, scalar\n",
    "def tailor_dB_FS(y, target_dB_FS=-25, eps=1e-6):\n",
    "        rms = np.sqrt(np.mean(y ** 2))\n",
    "        scalar = 10 ** (target_dB_FS / 20) / (rms + eps)\n",
    "        y *= scalar\n",
    "        return y, rms, scalar\n",
    "print(clean)\n",
    "clean, _ = norm_amplitude(clean)\n",
    "print(clean)\n",
    "clean, _, _ = tailor_dB_FS(clean)\n",
    "print(clean)\n",
    "clean_rms = (clean ** 2).mean() ** 0.5\n",
    "print(clean_rms)"
   ]
  },
  {
   "cell_type": "code",
   "execution_count": null,
   "metadata": {},
   "outputs": [],
   "source": [
    "print(noise)\n",
    "noise, _ = norm_amplitude(noise)\n",
    "print(noise)\n",
    "noise, _, _ = tailor_dB_FS(noise)\n",
    "print(noise)\n",
    "noise_rms = (noise ** 2).mean() ** 0.5\n",
    "print(noise_rms)"
   ]
  },
  {
   "cell_type": "code",
   "execution_count": null,
   "metadata": {},
   "outputs": [],
   "source": [
    "SNR = noisy_target_dB_FS = np.random.randint(\n",
    "            -12,-7\n",
    "        )\n",
    "snr_scalar = clean_rms / (10 ** (SNR / 20)) / (noise_rms + 1e-7)\n",
    "noise *= snr_scalar\n",
    "noisy = clean + noise\n",
    "noisy"
   ]
  },
  {
   "cell_type": "code",
   "execution_count": null,
   "metadata": {},
   "outputs": [],
   "source": [
    "noisy_target_dB_FS = np.random.randint(\n",
    "            -35,\n",
    "            -15\n",
    "        )\n",
    "\n",
    "# rescale noisy RMS\n",
    "noisy, _, noisy_scalar = tailor_dB_FS(noisy, noisy_target_dB_FS)\n",
    "clean *= noisy_scalar\n",
    "def is_clipped(y, clipping_threshold=0.999):\n",
    "        return any(np.abs(y) > clipping_threshold)"
   ]
  },
  {
   "cell_type": "code",
   "execution_count": null,
   "metadata": {},
   "outputs": [],
   "source": []
  },
  {
   "cell_type": "code",
   "execution_count": null,
   "metadata": {},
   "outputs": [],
   "source": [
    "def SNR(estim,target, requires_grad=False,device=\"cuda:0\") :\n",
    "    if estim.shape != target.shape : \n",
    "        raise Exception(\"ERROR::metric.py::SIR:: output shape != target shape | {} != {}\".format(estim.shape,target.shape))\n",
    "    estim = torch.Tensor(estim)\n",
    "    target = torch.Tensor(target)\n",
    "\n",
    "    s_target = (torch.inner(estim,target)*target/torch.inner(target,target))\n",
    "\n",
    "    tmp = estim - s_target \n",
    "    e_noise = (tmp)\n",
    "\n",
    "    SNR = (torch.inner(s_target,s_target))/torch.inner(e_noise,e_noise)\n",
    "    return 10*torch.log10(SNR)"
   ]
  }
 ],
 "metadata": {
  "kernelspec": {
   "display_name": "Python 3 (ipykernel)",
   "language": "python",
   "name": "python3"
  },
  "language_info": {
   "codemirror_mode": {
    "name": "ipython",
    "version": 3
   },
   "file_extension": ".py",
   "mimetype": "text/x-python",
   "name": "python",
   "nbconvert_exporter": "python",
   "pygments_lexer": "ipython3",
   "version": "3.10.11"
  }
 },
 "nbformat": 4,
 "nbformat_minor": 5
}
