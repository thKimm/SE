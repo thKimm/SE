{
 "cells": [
  {
   "cell_type": "code",
   "execution_count": 1,
   "id": "87550e44",
   "metadata": {
    "metadata": {}
   },
   "outputs": [],
   "source": [
    "import torch\n",
    "import torch.nn as nn"
   ]
  },
  {
   "cell_type": "code",
   "execution_count": 14,
   "id": "df701a87",
   "metadata": {
    "metadata": {}
   },
   "outputs": [
    {
     "data": {
      "text/plain": [
       "(torch.Size([3, 2, 10, 10]), torch.Size([3, 10, 10, 10]))"
      ]
     },
     "execution_count": 14,
     "metadata": {},
     "output_type": "execute_result"
    }
   ],
   "source": [
    "a = torch.randn(3, 2, 10,10)\n",
    "conv2 = nn.Conv2d(2, 10, (3,3), padding=1)\n",
    "b = conv2(a)\n",
    "a.shape, b.shape"
   ]
  },
  {
   "cell_type": "code",
   "execution_count": 18,
   "id": "e1d05a3a",
   "metadata": {
    "metadata": {}
   },
   "outputs": [
    {
     "data": {
      "text/plain": [
       "tensor([[-2.5798, -0.4835],\n",
       "        [-0.7570,  0.1260],\n",
       "        [-0.9824, -1.9866]])"
      ]
     },
     "execution_count": 18,
     "metadata": {},
     "output_type": "execute_result"
    }
   ],
   "source": [
    "a = torch.randn(3, 2)\n",
    "a"
   ]
  },
  {
   "cell_type": "code",
   "execution_count": 20,
   "id": "3153cf16",
   "metadata": {
    "metadata": {}
   },
   "outputs": [
    {
     "data": {
      "text/plain": [
       "tensor([[-2.5798, -0.7570, -0.9824],\n",
       "        [-0.4835,  0.1260, -1.9866]])"
      ]
     },
     "execution_count": 20,
     "metadata": {},
     "output_type": "execute_result"
    }
   ],
   "source": [
    "a.permute(1,0)"
   ]
  },
  {
   "cell_type": "code",
   "execution_count": 21,
   "id": "a23ba5b1",
   "metadata": {
    "metadata": {}
   },
   "outputs": [
    {
     "data": {
      "text/plain": [
       "tensor([[-2.5798, -0.4835, -0.7570],\n",
       "        [ 0.1260, -0.9824, -1.9866]])"
      ]
     },
     "execution_count": 21,
     "metadata": {},
     "output_type": "execute_result"
    }
   ],
   "source": [
    "a.reshape(2,3)"
   ]
  },
  {
   "cell_type": "code",
   "execution_count": 22,
   "id": "0a325071",
   "metadata": {
    "metadata": {}
   },
   "outputs": [
    {
     "name": "stdout",
     "output_type": "stream",
     "text": [
      "Input Shape: torch.Size([2, 5, 4])\n",
      "Output Shape: torch.Size([2, 5, 4])\n"
     ]
    }
   ],
   "source": [
    "import torch\n",
    "import torch.nn.functional as F\n",
    "\n",
    "# 입력 텐서 (B, T, D)\n",
    "B, T, D = 2, 5, 4\n",
    "X = torch.randn(B, T, D)\n",
    "\n",
    "# 가중치 행렬\n",
    "W_q = torch.randn(D, D)\n",
    "W_k = torch.randn(D, D)\n",
    "W_v = torch.randn(D, D)\n",
    "\n",
    "# Q, K, V 행렬 계산\n",
    "Q = X @ W_q  # (B, T, D)\n",
    "K = X @ W_k  # (B, T, D)\n",
    "V = X @ W_v  # (B, T, D)\n",
    "\n",
    "# Attention Score 계산\n",
    "Score = Q @ K.transpose(-2, -1) / torch.sqrt(torch.tensor(D, dtype=torch.float32))  # (B, T, T)\n",
    "\n",
    "# Softmax를 통한 정규화\n",
    "Attention_Weight = F.softmax(Score, dim=-1)  # (B, T, T)\n",
    "\n",
    "# 최종 출력 계산\n",
    "Output = Attention_Weight @ V  # (B, T, D)\n",
    "\n",
    "print(\"Input Shape:\", X.shape)\n",
    "print(\"Output Shape:\", Output.shape)"
   ]
  },
  {
   "cell_type": "code",
   "execution_count": 2,
   "id": "146bbe82",
   "metadata": {},
   "outputs": [],
   "source": [
    "input = torch.randn(1,64,257)\n",
    "conv1 = nn.Conv1d(8, 8, 5, padding=2)"
   ]
  },
  {
   "cell_type": "code",
   "execution_count": 3,
   "id": "7c02f56a",
   "metadata": {},
   "outputs": [
    {
     "data": {
      "text/plain": [
       "torch.Size([8, 8, 5])"
      ]
     },
     "execution_count": 3,
     "metadata": {},
     "output_type": "execute_result"
    }
   ],
   "source": [
    "conv1.weight.shape"
   ]
  },
  {
   "cell_type": "code",
   "execution_count": 5,
   "id": "2dcc7a3b",
   "metadata": {},
   "outputs": [
    {
     "data": {
      "text/plain": [
       "torch.Size([1, 8, 257])"
      ]
     },
     "execution_count": 5,
     "metadata": {},
     "output_type": "execute_result"
    }
   ],
   "source": [
    "conv1(input[:,:8,:]).shape"
   ]
  },
  {
   "cell_type": "code",
   "execution_count": null,
   "id": "eb7cb9d1",
   "metadata": {},
   "outputs": [],
   "source": []
  }
 ],
 "metadata": {
  "kernelspec": {
   "display_name": "Python 3 (ipykernel)",
   "language": "python",
   "name": "python3"
  },
  "language_info": {
   "codemirror_mode": {
    "name": "ipython",
    "version": 3
   },
   "file_extension": ".py",
   "mimetype": "text/x-python",
   "name": "python",
   "nbconvert_exporter": "python",
   "pygments_lexer": "ipython3",
   "version": "3.10.11"
  }
 },
 "nbformat": 4,
 "nbformat_minor": 5
}
